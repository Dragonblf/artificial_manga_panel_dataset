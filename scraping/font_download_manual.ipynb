{
 "cells": [
  {
   "cell_type": "code",
   "execution_count": 1,
   "id": "ed5534c9",
   "metadata": {},
   "outputs": [],
   "source": [
    "font_links_file = \"datasets/font_dataset/browse_links.txt\""
   ]
  },
  {
   "cell_type": "code",
   "execution_count": null,
   "id": "d38494cc",
   "metadata": {},
   "outputs": [],
   "source": []
  },
  {
   "cell_type": "code",
   "execution_count": 3,
   "id": "a4919557",
   "metadata": {},
   "outputs": [],
   "source": [
    "links = []\n",
    "with open(font_links_file) as f:\n",
    "    links = [link.replace(\"\\n\", \"\") for link in f.readlines()]\n",
    "    "
   ]
  },
  {
   "cell_type": "code",
   "execution_count": null,
   "id": "a2cb5b2e",
   "metadata": {},
   "outputs": [],
   "source": [
    "num = 1\n",
    "for link in links:\n",
    "    print(num, link)\n",
    "    num+= 1\n",
    "    input()"
   ]
  },
  {
   "cell_type": "code",
   "execution_count": null,
   "id": "a39ef3ee",
   "metadata": {},
   "outputs": [],
   "source": []
  }
 ],
 "metadata": {
  "kernelspec": {
   "display_name": "Python 3",
   "language": "python",
   "name": "python3"
  },
  "language_info": {
   "codemirror_mode": {
    "name": "ipython",
    "version": 3
   },
   "file_extension": ".py",
   "mimetype": "text/x-python",
   "name": "python",
   "nbconvert_exporter": "python",
   "pygments_lexer": "ipython3",
   "version": "3.9.2"
  }
 },
 "nbformat": 4,
 "nbformat_minor": 5
}
